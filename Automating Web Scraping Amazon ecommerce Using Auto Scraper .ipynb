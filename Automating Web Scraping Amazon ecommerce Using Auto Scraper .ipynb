{
 "cells": [
  {
   "cell_type": "code",
   "execution_count": 41,
   "id": "5c06e83b",
   "metadata": {},
   "outputs": [
    {
     "name": "stdout",
     "output_type": "stream",
     "text": [
      "Requirement already satisfied: autoscraper in c:\\users\\imsan\\anaconda3\\lib\\site-packages (1.1.14)\n",
      "Requirement already satisfied: requests in c:\\users\\imsan\\anaconda3\\lib\\site-packages (from autoscraper) (2.27.1)\n",
      "Requirement already satisfied: lxml in c:\\users\\imsan\\anaconda3\\lib\\site-packages (from autoscraper) (4.8.0)\n",
      "Requirement already satisfied: bs4 in c:\\users\\imsan\\anaconda3\\lib\\site-packages (from autoscraper) (0.0.1)\n",
      "Requirement already satisfied: beautifulsoup4 in c:\\users\\imsan\\anaconda3\\lib\\site-packages (from bs4->autoscraper) (4.11.1)\n",
      "Requirement already satisfied: soupsieve>1.2 in c:\\users\\imsan\\anaconda3\\lib\\site-packages (from beautifulsoup4->bs4->autoscraper) (2.3.1)\n",
      "Requirement already satisfied: idna<4,>=2.5 in c:\\users\\imsan\\anaconda3\\lib\\site-packages (from requests->autoscraper) (3.3)\n",
      "Requirement already satisfied: urllib3<1.27,>=1.21.1 in c:\\users\\imsan\\anaconda3\\lib\\site-packages (from requests->autoscraper) (1.26.9)\n",
      "Requirement already satisfied: charset-normalizer~=2.0.0 in c:\\users\\imsan\\anaconda3\\lib\\site-packages (from requests->autoscraper) (2.0.4)\n",
      "Requirement already satisfied: certifi>=2017.4.17 in c:\\users\\imsan\\anaconda3\\lib\\site-packages (from requests->autoscraper) (2021.10.8)\n"
     ]
    }
   ],
   "source": [
    "!pip install autoscraper"
   ]
  },
  {
   "cell_type": "code",
   "execution_count": 42,
   "id": "28adbb9c",
   "metadata": {},
   "outputs": [],
   "source": [
    "from autoscraper import AutoScraper"
   ]
  },
  {
   "cell_type": "code",
   "execution_count": 43,
   "id": "d3b6bd53",
   "metadata": {},
   "outputs": [],
   "source": [
    "amazon_url=\"https://www.amazon.in/s?k=iphones\"\n",
    "wanted_list=[\"₹1,07,900\",\"Apple iPhone 13 Pro (128GB) - Sierra Blue\"]"
   ]
  },
  {
   "cell_type": "code",
   "execution_count": 44,
   "id": "1280b9c3",
   "metadata": {},
   "outputs": [
    {
     "name": "stdout",
     "output_type": "stream",
     "text": [
      "['₹70,900', '₹79,900', '₹1,07,900', '₹1,19,900', '₹71,900', '₹1,29,900', '₹1,39,900', '₹78,900', '₹89,900', '₹59,490', '₹64,900', '₹64,990', '₹69,900', '₹60,900', '₹58,900', '₹77,900', '₹64,999', 'Apple iPhone 13 (128GB) - Blue', 'Apple iPhone 13 Pro (128GB) - Sierra Blue', 'Apple iPhone 13 (128GB) - Midnight', 'Apple iPhone 13 Pro Max (256GB) - Sierra Blue', 'Apple iPhone 13 (256 GB) - Green', 'Apple iPhone 13 (128GB) - Green', 'Apple iPhone 12 Mini (128GB) - White', 'Apple iPhone 13 Mini (128 GB) - Green', 'Apple iPhone 12 (128GB) - Green', 'Apple iPhone 13 (256GB) - Blue', 'Apple iPhone 12 (64GB) - Purple', 'Apple iPhone 13 (256GB) - Midnight', 'Apple iPhone 13 (256GB) - Pink', 'Apple iPhone 13 (256GB) - Starlight', 'Apple iPhone 13 (128GB) - (Product) RED', 'Apple iPhone 13 Mini (128GB) - Starlight']\n"
     ]
    }
   ],
   "source": [
    "scraper=AutoScraper()\n",
    "result=scraper.build(amazon_url,wanted_list)\n",
    "print(result)"
   ]
  },
  {
   "cell_type": "code",
   "execution_count": 45,
   "id": "9b7cb32e",
   "metadata": {},
   "outputs": [
    {
     "data": {
      "text/plain": [
       "{'rule_lwwy': ['₹70,900',\n",
       "  '₹79,900',\n",
       "  '₹1,07,900',\n",
       "  '₹1,19,900',\n",
       "  '₹71,900',\n",
       "  '₹79,900',\n",
       "  '₹1,29,900',\n",
       "  '₹1,39,900',\n",
       "  '₹78,900',\n",
       "  '₹89,900',\n",
       "  '₹71,900',\n",
       "  '₹79,900',\n",
       "  '₹59,490',\n",
       "  '₹64,900',\n",
       "  '₹64,990',\n",
       "  '₹69,900',\n",
       "  '₹60,900',\n",
       "  '₹70,900',\n",
       "  '₹78,900',\n",
       "  '₹89,900',\n",
       "  '₹58,900',\n",
       "  '₹70,900',\n",
       "  '₹78,900',\n",
       "  '₹89,900',\n",
       "  '₹78,900',\n",
       "  '₹89,900',\n",
       "  '₹77,900',\n",
       "  '₹89,900',\n",
       "  '₹71,900',\n",
       "  '₹79,900',\n",
       "  '₹64,999',\n",
       "  '₹69,900'],\n",
       " 'rule_8lbf': ['₹70,900',\n",
       "  '₹79,900',\n",
       "  '₹1,07,900',\n",
       "  '₹1,19,900',\n",
       "  '₹71,900',\n",
       "  '₹79,900',\n",
       "  '₹1,29,900',\n",
       "  '₹1,39,900',\n",
       "  '₹78,900',\n",
       "  '₹89,900',\n",
       "  '₹71,900',\n",
       "  '₹79,900',\n",
       "  '₹59,490',\n",
       "  '₹64,900',\n",
       "  '₹64,990',\n",
       "  '₹69,900',\n",
       "  '₹60,900',\n",
       "  '₹70,900',\n",
       "  '₹78,900',\n",
       "  '₹89,900',\n",
       "  '₹58,900',\n",
       "  '₹70,900',\n",
       "  '₹78,900',\n",
       "  '₹89,900',\n",
       "  '₹78,900',\n",
       "  '₹89,900',\n",
       "  '₹77,900',\n",
       "  '₹89,900',\n",
       "  '₹71,900',\n",
       "  '₹79,900',\n",
       "  '₹64,999',\n",
       "  '₹69,900'],\n",
       " 'rule_l2vb': ['Apple iPhone 13 (128GB) - Blue',\n",
       "  'Apple iPhone 13 Pro (128GB) - Sierra Blue',\n",
       "  'Apple iPhone 13 (128GB) - Midnight',\n",
       "  'Apple iPhone 13 Pro Max (256GB) - Sierra Blue',\n",
       "  'Apple iPhone 13 (256 GB) - Green',\n",
       "  'Apple iPhone 13 (128GB) - Green',\n",
       "  'Apple iPhone 12 Mini (128GB) - White',\n",
       "  'Apple iPhone 13 Mini (128 GB) - Green',\n",
       "  'Apple iPhone 12 (128GB) - Green',\n",
       "  'Apple iPhone 13 (256GB) - Blue',\n",
       "  'Apple iPhone 12 (64GB) - Purple',\n",
       "  'Apple iPhone 13 (256GB) - Midnight',\n",
       "  'Apple iPhone 13 (256GB) - Pink',\n",
       "  'Apple iPhone 13 (256GB) - Starlight',\n",
       "  'Apple iPhone 13 (128GB) - (Product) RED',\n",
       "  'Apple iPhone 13 Mini (128GB) - Starlight'],\n",
       " 'rule_jg9h': ['Apple iPhone 13 (128GB) - Blue',\n",
       "  'Apple iPhone 13 Pro (128GB) - Sierra Blue',\n",
       "  'Apple iPhone 13 (128GB) - Midnight',\n",
       "  'Apple iPhone 13 Pro Max (256GB) - Sierra Blue',\n",
       "  'Apple iPhone 13 (256 GB) - Green',\n",
       "  'Apple iPhone 13 (128GB) - Green',\n",
       "  'Apple iPhone 12 Mini (128GB) - White',\n",
       "  'Apple iPhone 13 Mini (128 GB) - Green',\n",
       "  'Apple iPhone 12 (128GB) - Green',\n",
       "  'Apple iPhone 13 (256GB) - Blue',\n",
       "  'Apple iPhone 12 (64GB) - Purple',\n",
       "  'Apple iPhone 13 (256GB) - Midnight',\n",
       "  'Apple iPhone 13 (256GB) - Pink',\n",
       "  'Apple iPhone 13 (256GB) - Starlight',\n",
       "  'Apple iPhone 13 (128GB) - (Product) RED',\n",
       "  'Apple iPhone 13 Mini (128GB) - Starlight']}"
      ]
     },
     "execution_count": 45,
     "metadata": {},
     "output_type": "execute_result"
    }
   ],
   "source": [
    "scraper.get_result_similar(amazon_url,grouped=True)\n"
   ]
  },
  {
   "cell_type": "code",
   "execution_count": 48,
   "id": "b10849bc",
   "metadata": {},
   "outputs": [],
   "source": [
    "scraper.set_rule_aliases({\"rule_jg9h\":\"Title\",\"rule_lwwy\":\"Price\"})\n",
    "scraper.keep_rules(['rule_jg9h',\"rule_lwwy\"])\n",
    "scraper.save(\"amazon-search\")"
   ]
  },
  {
   "cell_type": "code",
   "execution_count": 51,
   "id": "4d6274cd",
   "metadata": {},
   "outputs": [],
   "source": [
    "results=scraper.get_result_similar(\"https://www.amazon.in/s?k=mi+phones\",group_by_alias=True)"
   ]
  },
  {
   "cell_type": "code",
   "execution_count": 52,
   "id": "ab59b6fd",
   "metadata": {},
   "outputs": [
    {
     "data": {
      "text/plain": [
       "['Mi 11X 5G (Cosmic Black 8GB RAM 128GB ROM) | SD 870 | DisplayMate A+ rated E4 AMOLED | Extra offers on exchange | Upto 18 ...',\n",
       " '(Renewed) Mi 10i 5G (Atlantic Blue, 8GB RAM, 128GB Storage) - 108MP Quad Camera | Snapdragon 750G Processor',\n",
       " 'MI Poco M2 (Brick Red, 6GB RAM, 64GB Storage)',\n",
       " '(Renewed) Redmi Note 5 Pro (Gold, 4GB RAM, 64GB Storage)',\n",
       " 'Redmi 5 (Gold, 3GB RAM, 32GB Storage)',\n",
       " 'Mi Redmi 8 Smartphone (Onyx Black, 4GB RAM, 64GB Storage)',\n",
       " 'Mi Redmi 8 Phone (Sapphire Blue, 4GB RAM, 64GB Storage)',\n",
       " 'MI Poco M2 (Slate Blue, 6GB RAM, 64GB Storage)',\n",
       " 'Redmi 6 (Black, 3GB RAM, 64GB Storage)',\n",
       " 'Mi Redmi 8A Phone (Sunset Red, 2GB RAM, 32GB Storage)',\n",
       " 'MI Poco M2 Pro (Out of The Blue, 4GB RAM, 64GB Storage)',\n",
       " 'Mi 11X 5G (Cosmic Black 6GB RAM 128GB ROM) | SD 870 | DisplayMate A+ rated E4 AMOLED | Upto 18 Months No Cost EMI | Extra ...',\n",
       " 'Mi 11X Pro 5G (Cosmic Black, 8GB RAM, 128GB Storage) | Snapdragon 888 | 108MP Camera | 6 Month Free Screen Replacement for...',\n",
       " 'MI REDMI 9i Sport (Coral Green, 64 GB) (4 GB RAM)',\n",
       " 'MI REDMI 9i Sport (Carbon Black, 64 GB) (4 GB RAM)',\n",
       " 'Mi 10 (Coral Green, 8GB RAM, 256GB Storage) - 108MP Quad Camera, SD 865 Processor, 5G Ready']"
      ]
     },
     "execution_count": 52,
     "metadata": {},
     "output_type": "execute_result"
    }
   ],
   "source": [
    "results[\"Title\"]"
   ]
  },
  {
   "cell_type": "code",
   "execution_count": 54,
   "id": "b6e621d8",
   "metadata": {},
   "outputs": [
    {
     "data": {
      "text/plain": [
       "['₹29,999',\n",
       " '₹34,999',\n",
       " '₹22,999',\n",
       " '₹45,999',\n",
       " '₹10,790',\n",
       " '₹12,999',\n",
       " '₹10,161',\n",
       " '₹12,999',\n",
       " '₹7,499',\n",
       " '₹12,999',\n",
       " '₹10,489',\n",
       " '₹11,999',\n",
       " '₹11,749',\n",
       " '₹11,999',\n",
       " '₹9,750',\n",
       " '₹10,499',\n",
       " '₹7,700',\n",
       " '₹7,999',\n",
       " '₹13,295',\n",
       " '₹16,999',\n",
       " '₹27,999',\n",
       " '₹33,999',\n",
       " '₹36,999',\n",
       " '₹47,999',\n",
       " '₹54,999',\n",
       " '₹59,999']"
      ]
     },
     "execution_count": 54,
     "metadata": {},
     "output_type": "execute_result"
    }
   ],
   "source": [
    "results['Price']"
   ]
  },
  {
   "cell_type": "code",
   "execution_count": null,
   "id": "fecc2c88",
   "metadata": {},
   "outputs": [],
   "source": []
  }
 ],
 "metadata": {
  "kernelspec": {
   "display_name": "Python 3 (ipykernel)",
   "language": "python",
   "name": "python3"
  },
  "language_info": {
   "codemirror_mode": {
    "name": "ipython",
    "version": 3
   },
   "file_extension": ".py",
   "mimetype": "text/x-python",
   "name": "python",
   "nbconvert_exporter": "python",
   "pygments_lexer": "ipython3",
   "version": "3.9.12"
  }
 },
 "nbformat": 4,
 "nbformat_minor": 5
}
